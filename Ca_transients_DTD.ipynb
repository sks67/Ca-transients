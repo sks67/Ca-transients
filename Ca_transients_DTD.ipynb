{
 "cells": [
  {
   "cell_type": "code",
   "execution_count": 2,
   "metadata": {},
   "outputs": [
    {
     "name": "stdout",
     "output_type": "stream",
     "text": [
      "Populating the interactive namespace from numpy and matplotlib\n"
     ]
    }
   ],
   "source": [
    "%pylab inline\n",
    "from astropy.io import ascii\n"
   ]
  },
  {
   "cell_type": "code",
   "execution_count": 3,
   "metadata": {},
   "outputs": [
    {
     "data": {
      "text/html": [
       "<i>Table length=9</i>\n",
       "<table id=\"table4772243048\" class=\"table-striped table-bordered table-condensed\">\n",
       "<thead><tr><th>age_5559</th><th>SFR_5559</th><th>SFR_5559_lower</th><th>SFR_5559_upper</th><th>age_2768</th><th>SFR_2768</th><th>SFR_2768_lower</th><th>SFR_2768_upper</th><th>age_4589</th><th>SFR_4589</th><th>SFR_4589_lower</th><th>SFR_4589_upper</th><th>age_2272</th><th>SFR_2272</th><th>SFR_2272_lower</th><th>SFR_2272_upper</th></tr></thead>\n",
       "<thead><tr><th>float64</th><th>float64</th><th>float64</th><th>float64</th><th>float64</th><th>float64</th><th>float64</th><th>float64</th><th>float64</th><th>float64</th><th>float64</th><th>float64</th><th>float64</th><th>float64</th><th>float64</th><th>float64</th></tr></thead>\n",
       "<tr><td>7.0</td><td>2.805301469</td><td>1.924388032</td><td>3.870422334</td><td>7.0</td><td>0.026871016</td><td>0.020519688</td><td>0.032353934</td><td>7.0</td><td>0.019028994</td><td>0.004420896</td><td>0.032284825</td><td>7.0</td><td>0.020797865</td><td>0.011647041</td><td>0.028812223</td></tr>\n",
       "<tr><td>7.4772</td><td>2.805301469</td><td>1.924388032</td><td>3.870422334</td><td>7.4772</td><td>0.026871016</td><td>0.020519688</td><td>0.032353934</td><td>7.4772</td><td>0.019028994</td><td>0.004420896</td><td>0.032284825</td><td>7.4772</td><td>0.020797865</td><td>0.011647041</td><td>0.028812223</td></tr>\n",
       "<tr><td>8.0</td><td>2.557045217</td><td>1.566949456</td><td>4.013154327</td><td>8.0</td><td>0.024268191</td><td>0.013056999</td><td>0.044073827</td><td>8.0</td><td>0.023904186</td><td>0.007786247</td><td>0.069333359</td><td>8.0</td><td>0.020770629</td><td>0.010636885</td><td>0.036934683</td></tr>\n",
       "<tr><td>8.41182821</td><td>1.829041725</td><td>1.047394451</td><td>3.247636364</td><td>8.41295485</td><td>0.025780505</td><td>0.010468289</td><td>0.055395873</td><td>8.41182821</td><td>0.043505253</td><td>0.011607563</td><td>0.166872281</td><td>8.41272558</td><td>0.022753317</td><td>0.009018913</td><td>0.054321541</td></tr>\n",
       "<tr><td>8.82365641</td><td>1.606295216</td><td>0.958543437</td><td>2.739943847</td><td>8.82590969</td><td>0.029062501</td><td>0.010392243</td><td>0.074774415</td><td>8.82365641</td><td>0.124691374</td><td>0.021557167</td><td>0.70851965</td><td>8.82545117</td><td>0.027848958</td><td>0.009408316</td><td>0.067706756</td></tr>\n",
       "<tr><td>9.23548462</td><td>2.169113737</td><td>1.241045789</td><td>3.601944396</td><td>9.23886454</td><td>0.034377901</td><td>0.010790162</td><td>0.118251227</td><td>9.23548462</td><td>1.174755176</td><td>0.069269332</td><td>3.829472711</td><td>9.23817675</td><td>0.039456334</td><td>0.01044601</td><td>0.112032807</td></tr>\n",
       "<tr><td>9.64731283</td><td>4.102752402</td><td>2.652850268</td><td>5.694333511</td><td>9.65181939</td><td>0.057471375</td><td>0.012155218</td><td>0.219240401</td><td>9.64731283</td><td>10.45083918</td><td>5.830641093</td><td>15.984388</td><td>9.65090233</td><td>0.445498287</td><td>0.06453332</td><td>2.166796121</td></tr>\n",
       "<tr><td>10.05914103</td><td>6.561043336</td><td>5.18591365</td><td>7.842313275</td><td>10.06477424</td><td>16.13372962</td><td>13.53755454</td><td>18.67769776</td><td>10.05914103</td><td>10.32569154</td><td>8.223229878</td><td>13.23611734</td><td>10.06362792</td><td>9.684444097</td><td>8.208922307</td><td>10.97527874</td></tr>\n",
       "<tr><td>10.12972211</td><td>6.239822973</td><td>3.210173111</td><td>10.04703374</td><td>10.13535531</td><td>29.41057099</td><td>16.92027474</td><td>41.95219126</td><td>10.12972211</td><td>8.180266377</td><td>3.750407111</td><td>15.70819277</td><td>10.13420899</td><td>8.213800018</td><td>3.657780647</td><td>14.68750166</td></tr>\n",
       "</table>"
      ],
      "text/plain": [
       "<Table length=9>\n",
       "  age_5559    SFR_5559  SFR_5559_lower ... SFR_2272_lower SFR_2272_upper\n",
       "  float64     float64      float64     ...    float64        float64    \n",
       "----------- ----------- -------------- ... -------------- --------------\n",
       "        7.0 2.805301469    1.924388032 ...    0.011647041    0.028812223\n",
       "     7.4772 2.805301469    1.924388032 ...    0.011647041    0.028812223\n",
       "        8.0 2.557045217    1.566949456 ...    0.010636885    0.036934683\n",
       " 8.41182821 1.829041725    1.047394451 ...    0.009018913    0.054321541\n",
       " 8.82365641 1.606295216    0.958543437 ...    0.009408316    0.067706756\n",
       " 9.23548462 2.169113737    1.241045789 ...     0.01044601    0.112032807\n",
       " 9.64731283 4.102752402    2.652850268 ...     0.06453332    2.166796121\n",
       "10.05914103 6.561043336     5.18591365 ...    8.208922307    10.97527874\n",
       "10.12972211 6.239822973    3.210173111 ...    3.657780647    14.68750166"
      ]
     },
     "execution_count": 3,
     "metadata": {},
     "output_type": "execute_result"
    }
   ],
   "source": [
    "tab = ascii.read(\"SFH_nonparametric.csv\")\n",
    "tab"
   ]
  },
  {
   "cell_type": "markdown",
   "metadata": {},
   "source": [
    "### Defining functions and reading in data"
   ]
  },
  {
   "cell_type": "code",
   "execution_count": 7,
   "metadata": {},
   "outputs": [],
   "source": [
    "import scipy.interpolate as interp\n",
    "import scipy.integrate as integ\n",
    "\n",
    "def dtd_cc(t_Myr):\n",
    "    #Delay-time distribution for core-collapse supernovae from Zapartas et al 2017\n",
    "    #Case of single stars, Eq A1 in paper\n",
    "    #The 1.0e6 prefactor is so that units are in ccSN/Myr/Msun, which helps the time integration of the DTD\n",
    "    #to come out in units of ccSN/Msun. \n",
    "    return 1.0e6*np.piecewise(t_Myr, [t_Myr<3., (t_Myr>=3.) & (t_Myr<25.), (t_Myr>=25.) & (t_Myr<=48),t_Myr>48],\\\n",
    "                     [0, lambda t: (1.0e-9)*(-2.83 + (8.7*np.log10(t)) - 2.07*(np.log10(t)**2))*(1/t), \\\n",
    "                      lambda t: (1.0e-8)*(-4.85 + (6.55*np.log10(t)) - 1.92*(np.log10(t)**2))*(1/t), \\\n",
    "                      0])\n",
    "\n",
    "def dtd_cc_bin(t_Myr):\n",
    "    #Zapartas et al DTD, but for binaries (Eq A2 in paper)\n",
    "    return 1.0e6*np.piecewise(t_Myr, [t_Myr<=3., (t_Myr>=3.) & (t_Myr<25.), (t_Myr>=25.) & (t_Myr<=48),\\\n",
    "                      (t_Myr>=48.) & (t_Myr<=200.),t_Myr>=200.],\\\n",
    "                     [0, lambda t: (1.0e-9)*(-2.65 + (7.51*np.log10(t)) - 0.98*(np.log10(t)**2))*(1/t), \\\n",
    "                      lambda t: (1.0e-8)*(-0.89 + (1.73*np.log10(t)) - 0.51*(np.log10(t)**2))*(1/t), \\\n",
    "                      lambda t: (1.0e-8)*(3.46 - (2.98*np.log10(t)) + 0.65*(np.log10(t)**2))*(1/t),\n",
    "                      0])\n",
    "\n",
    "\n",
    "def dtd_ia(t_Myr):\n",
    "    # Type Ia SN DTD\n",
    "    #Eq 13, Maoz & Mannucci 2012, PASA 2019 447\n",
    "    return 1.0e6*np.piecewise(t_Myr, [t_Myr<40., (t_Myr>=40.) & (t_Myr<=100.0e4), t_Myr>100.0e4], \\\n",
    "                     [0, lambda t: (4.0e-10)*(t)**(-1.0), 0])"
   ]
  },
  {
   "cell_type": "markdown",
   "metadata": {},
   "source": [
    "For each galaxy's star-formation history ($\\dot{M}(t)$, in units $M_{\\odot}$/yr), you can calculate the SN rate $R_{SN}$ as in Eq 10 of [Maoz & Badenes 2010](https://arxiv.org/abs/1003.3031) \n",
    "\n",
    "\\begin{equation}\n",
    "R_{SN} = \\int \\dot{M}(t-\\tau) \\Psi(\\tau) d\\tau\n",
    "\\end{equation}\n",
    "\n",
    "For each age bin (e.g. $t_{lo,1}-t_{up,1}, t_{lo,2}-t_{up,2}, t_{lo,3}-t_{up,3}, ...$) and corresponding star-formation rates in the bin ($\\dot{M}_1$, $\\dot{M}_2$, $\\dot{M}_3$,...) we can spread this integral out as \n",
    "\\begin{equation}\n",
    "R_{SN} = \\int_{t_{lo,1}}^{t_{up,1}} \\dot{M}_1(t-\\tau) \\Psi(\\tau) d\\tau + \\int_{t_{lo,2}}^{t_{up,2}} \\dot{M}_2(t-\\tau) \\Psi(\\tau) d\\tau + \\int_{t_{lo,3}}^{t_{up,3}} \\dot{M}_3(t-\\tau) \\Psi(\\tau) d\\tau + ...\n",
    "\\end{equation}\n",
    "\n",
    "Since the SFR in each age bin is a constant, we just take it out of the integral and calculate the integral over the DTD\n",
    "\\begin{equation}\n",
    "R_{SN} = \\dot{M}_1 \\int_{t_{lo,1}}^{t_{up,1}} \\Psi(\\tau) d\\tau + \\dot{M}_2 \\int_{t_{lo,2}}^{t_{up,2}} \\Psi(\\tau) d\\tau + \\dot{M}_3 \\int_{t_{lo,3}}^{t_{up,3}} \\Psi(\\tau) d\\tau + ...\n",
    "\\end{equation}\n",
    "\n",
    "(Note: I think you can get away with just evaluating the DTD at the central age bin value (i.e. $\\int_{t_{lo,1}}^{t_{up,1}} \\Psi(\\tau) d\\tau \\approx \\Psi_1 (t_{up,1}-t_{lo,1})$). Can check this later.)"
   ]
  },
  {
   "cell_type": "code",
   "execution_count": 10,
   "metadata": {},
   "outputs": [
    {
     "name": "stdout",
     "output_type": "stream",
     "text": [
      "Rates in SN/yr\n",
      "Core collapse Rate for NGC5559:  0.034406841182838384\n",
      "Thermonuclear Rate for NGC5559:  0.007513507685876254\n",
      "Ia/CC Fraction for NGC5559:  0.21837249301525183\n",
      "\n",
      "\n",
      "Rates in SN/yr\n",
      "Core collapse Rate for NGC2768:  0.0003322446498970088\n",
      "Thermonuclear Rate for NGC2768:  0.008112989144890429\n",
      "Ia/CC Fraction for NGC2768:  24.418720203336132\n",
      "\n",
      "\n",
      "Rates in SN/yr\n",
      "Core collapse Rate for NGC4589:  0.00027315350875378914\n",
      "Thermonuclear Rate for NGC4589:  0.008930632707434731\n",
      "Ia/CC Fraction for NGC4589:  32.69455606914603\n",
      "\n",
      "\n",
      "Rates in SN/yr\n",
      "Core collapse Rate for NGC2272:  0.0002663352225021736\n",
      "Thermonuclear Rate for NGC2272:  0.004426545026648021\n",
      "Ia/CC Fraction for NGC2272:  16.620201357752805\n",
      "\n",
      "\n"
     ]
    }
   ],
   "source": [
    "galaxy = [\"5559\",\"2768\",\"4589\",\"2272\"]\n",
    "for g in galaxy:\n",
    "    #Reading age limits, sfrs  from Vic's star-formation histories\n",
    "    logagelims = np.concatenate(([0], tab[\"age_{}\".format(g)].data)) #Adding 0 to the first bin\n",
    "    sfr = tab[\"SFR_{}\".format(g)].data\n",
    "    sfr_low = tab[\"SFR_{}_lower\".format(g)].data\n",
    "    sfr_up = tab[\"SFR_{}_upper\".format(g)].data\n",
    "    ages = 10**logagelims\n",
    "\n",
    "    #integral over the DTD for CC\n",
    "    intDTD_cc = np.array([integ.quad(dtd_cc_bin, ages[j]/1.0e6, ages[j+1]/1.0e6)[0] for j in range(len(ages[:-1]))])\n",
    "    #integral over the DTD for Ia\n",
    "    intDTD_ia = np.array([integ.quad(dtd_ia, ages[j]/1.0e6, ages[j+1]/1.0e6)[0] for j in range(len(ages[:-1]))])\n",
    "    #SN rates = SFR*int(DTD)\n",
    "    Rsn_cc = np.dot(sfr.T, intDTD_cc)\n",
    "    Rsn_ia = np.dot(sfr.T, intDTD_ia)\n",
    "\n",
    "    print(\"Rates in SN/yr\")\n",
    "    print(\"Core collapse Rate for {}: \".format(\"NGC\"+g), Rsn_cc)\n",
    "    print(\"Thermonuclear Rate for {}: \".format(\"NGC\"+g), Rsn_ia)\n",
    "    print(\"Ia/CC Fraction for {}: \".format(\"NGC\"+g), Rsn_ia/Rsn_cc)\n",
    "    print(\"\\n\")\n"
   ]
  },
  {
   "cell_type": "code",
   "execution_count": null,
   "metadata": {},
   "outputs": [],
   "source": []
  }
 ],
 "metadata": {
  "kernelspec": {
   "display_name": "Python 3",
   "language": "python",
   "name": "python3"
  },
  "language_info": {
   "codemirror_mode": {
    "name": "ipython",
    "version": 3
   },
   "file_extension": ".py",
   "mimetype": "text/x-python",
   "name": "python",
   "nbconvert_exporter": "python",
   "pygments_lexer": "ipython3",
   "version": "3.7.3"
  }
 },
 "nbformat": 4,
 "nbformat_minor": 4
}

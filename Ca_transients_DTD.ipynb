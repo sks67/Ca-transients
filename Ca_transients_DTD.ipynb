{
 "cells": [
  {
   "cell_type": "code",
   "execution_count": 285,
   "metadata": {},
   "outputs": [
    {
     "name": "stdout",
     "output_type": "stream",
     "text": [
      "Populating the interactive namespace from numpy and matplotlib\n"
     ]
    },
    {
     "name": "stderr",
     "output_type": "stream",
     "text": [
      "/Users/sumits2k/anaconda3/lib/python3.7/site-packages/IPython/core/magics/pylab.py:160: UserWarning: pylab import has clobbered these variables: ['interp']\n",
      "`%matplotlib` prevents importing * from pylab and numpy\n",
      "  \"\\n`%matplotlib` prevents importing * from pylab and numpy\"\n"
     ]
    }
   ],
   "source": [
    "%pylab inline\n",
    "from astropy.io import ascii\n",
    "from astropy.table import Table"
   ]
  },
  {
   "cell_type": "code",
   "execution_count": 286,
   "metadata": {},
   "outputs": [
    {
     "data": {
      "text/html": [
       "<i>Table length=9</i>\n",
       "<table id=\"table4509053840\" class=\"table-striped table-bordered table-condensed\">\n",
       "<thead><tr><th>age_5559</th><th>SFR_5559</th><th>SFR_5559_lower</th><th>SFR_5559_upper</th><th>age_2768</th><th>SFR_2768</th><th>SFR_2768_lower</th><th>SFR_2768_upper</th><th>age_4589</th><th>SFR_4589</th><th>SFR_4589_lower</th><th>SFR_4589_upper</th><th>age_2272</th><th>SFR_2272</th><th>SFR_2272_lower</th><th>SFR_2272_upper</th></tr></thead>\n",
       "<thead><tr><th>float64</th><th>float64</th><th>float64</th><th>float64</th><th>float64</th><th>float64</th><th>float64</th><th>float64</th><th>float64</th><th>float64</th><th>float64</th><th>float64</th><th>float64</th><th>float64</th><th>float64</th><th>float64</th></tr></thead>\n",
       "<tr><td>7.0</td><td>2.805301469</td><td>1.924388032</td><td>3.870422334</td><td>7.0</td><td>0.026871016</td><td>0.020519688</td><td>0.032353934</td><td>7.0</td><td>0.019028994</td><td>0.004420896</td><td>0.032284825</td><td>7.0</td><td>0.020797865</td><td>0.011647041</td><td>0.028812223</td></tr>\n",
       "<tr><td>7.4772</td><td>2.805301469</td><td>1.924388032</td><td>3.870422334</td><td>7.4772</td><td>0.026871016</td><td>0.020519688</td><td>0.032353934</td><td>7.4772</td><td>0.019028994</td><td>0.004420896</td><td>0.032284825</td><td>7.4772</td><td>0.020797865</td><td>0.011647041</td><td>0.028812223</td></tr>\n",
       "<tr><td>8.0</td><td>2.557045217</td><td>1.566949456</td><td>4.013154327</td><td>8.0</td><td>0.024268191</td><td>0.013056999</td><td>0.044073827</td><td>8.0</td><td>0.023904186</td><td>0.007786247</td><td>0.069333359</td><td>8.0</td><td>0.020770629</td><td>0.010636885</td><td>0.036934683</td></tr>\n",
       "<tr><td>8.41182821</td><td>1.829041725</td><td>1.047394451</td><td>3.247636364</td><td>8.41295485</td><td>0.025780505</td><td>0.010468289</td><td>0.055395873</td><td>8.41182821</td><td>0.043505253</td><td>0.011607563</td><td>0.166872281</td><td>8.41272558</td><td>0.022753317</td><td>0.009018913</td><td>0.054321541</td></tr>\n",
       "<tr><td>8.82365641</td><td>1.606295216</td><td>0.958543437</td><td>2.739943847</td><td>8.82590969</td><td>0.029062501</td><td>0.010392243</td><td>0.074774415</td><td>8.82365641</td><td>0.124691374</td><td>0.021557167</td><td>0.70851965</td><td>8.82545117</td><td>0.027848958</td><td>0.009408316</td><td>0.067706756</td></tr>\n",
       "<tr><td>9.23548462</td><td>2.169113737</td><td>1.241045789</td><td>3.601944396</td><td>9.23886454</td><td>0.034377901</td><td>0.010790162</td><td>0.118251227</td><td>9.23548462</td><td>1.174755176</td><td>0.069269332</td><td>3.829472711</td><td>9.23817675</td><td>0.039456334</td><td>0.01044601</td><td>0.112032807</td></tr>\n",
       "<tr><td>9.64731283</td><td>4.102752402</td><td>2.652850268</td><td>5.694333511</td><td>9.65181939</td><td>0.057471375</td><td>0.012155218</td><td>0.219240401</td><td>9.64731283</td><td>10.45083918</td><td>5.830641093</td><td>15.984388</td><td>9.65090233</td><td>0.445498287</td><td>0.06453332</td><td>2.166796121</td></tr>\n",
       "<tr><td>10.05914103</td><td>6.561043336</td><td>5.18591365</td><td>7.842313275</td><td>10.06477424</td><td>16.13372962</td><td>13.53755454</td><td>18.67769776</td><td>10.05914103</td><td>10.32569154</td><td>8.223229878</td><td>13.23611734</td><td>10.06362792</td><td>9.684444097</td><td>8.208922307</td><td>10.97527874</td></tr>\n",
       "<tr><td>10.12972211</td><td>6.239822973</td><td>3.210173111</td><td>10.04703374</td><td>10.13535531</td><td>29.41057099</td><td>16.92027474</td><td>41.95219126</td><td>10.12972211</td><td>8.180266377</td><td>3.750407111</td><td>15.70819277</td><td>10.13420899</td><td>8.213800018</td><td>3.657780647</td><td>14.68750166</td></tr>\n",
       "</table>"
      ],
      "text/plain": [
       "<Table length=9>\n",
       "  age_5559    SFR_5559  SFR_5559_lower ... SFR_2272_lower SFR_2272_upper\n",
       "  float64     float64      float64     ...    float64        float64    \n",
       "----------- ----------- -------------- ... -------------- --------------\n",
       "        7.0 2.805301469    1.924388032 ...    0.011647041    0.028812223\n",
       "     7.4772 2.805301469    1.924388032 ...    0.011647041    0.028812223\n",
       "        8.0 2.557045217    1.566949456 ...    0.010636885    0.036934683\n",
       " 8.41182821 1.829041725    1.047394451 ...    0.009018913    0.054321541\n",
       " 8.82365641 1.606295216    0.958543437 ...    0.009408316    0.067706756\n",
       " 9.23548462 2.169113737    1.241045789 ...     0.01044601    0.112032807\n",
       " 9.64731283 4.102752402    2.652850268 ...     0.06453332    2.166796121\n",
       "10.05914103 6.561043336     5.18591365 ...    8.208922307    10.97527874\n",
       "10.12972211 6.239822973    3.210173111 ...    3.657780647    14.68750166"
      ]
     },
     "execution_count": 286,
     "metadata": {},
     "output_type": "execute_result"
    }
   ],
   "source": [
    "tabnonpar = ascii.read(\"SFH_nonparametric.csv\")\n",
    "tabnonpar"
   ]
  },
  {
   "cell_type": "markdown",
   "metadata": {},
   "source": [
    "### Defining functions and reading in data"
   ]
  },
  {
   "cell_type": "code",
   "execution_count": 289,
   "metadata": {},
   "outputs": [],
   "source": [
    "import scipy.interpolate as interp\n",
    "import scipy.integrate as integ\n",
    "\n",
    "def dtd_cc(t):\n",
    "    #Delay-time distribution for core-collapse supernovae from Zapartas et al 2017\n",
    "    #Case of single stars, Eq A1 in paper\n",
    "    t_Myr = t/1.0e6\n",
    "    return 1.0e6*np.piecewise(t_Myr, [t_Myr<3., (t_Myr>=3.) & (t_Myr<25.), (t_Myr>=25.) & (t_Myr<=48),t_Myr>48],\\\n",
    "                     [0, lambda t: (1.0e-9)*(-2.83 + (8.7*np.log10(t)) - 2.07*(np.log10(t)**2))*(1/t), \\\n",
    "                      lambda t: (1.0e-8)*(-4.85 + (6.55*np.log10(t)) - 1.92*(np.log10(t)**2))*(1/t), \\\n",
    "                      0])\n",
    "\n",
    "def dtd_cc_bin(t):\n",
    "    t_Myr = t/1.0e6\n",
    "    #I removed the pre-factor of 1.0e6 because that was meant to out in units in ccSN/Msun/Myr\n",
    "    #which was okay when I was just integrating the DTD, but here I integrate the SFR and DTD \n",
    "    #together so that turns out to be incorrect\n",
    "    return np.piecewise(t_Myr, [t_Myr<=3., (t_Myr>=3.) & (t_Myr<25.), (t_Myr>=25.) & (t_Myr<=48),\\\n",
    "                      (t_Myr>=48.) & (t_Myr<=200.),t_Myr>=200.],\\\n",
    "                     [0, lambda t: (1.0e-9)*(-2.65 + (7.51*np.log10(t)) - 0.98*(np.log10(t)**2))*(1/t), \\\n",
    "                      lambda t: (1.0e-8)*(-0.89 + (1.73*np.log10(t)) - 0.51*(np.log10(t)**2))*(1/t), \\\n",
    "                      lambda t: (1.0e-8)*(3.46 - (2.98*np.log10(t)) + 0.65*(np.log10(t)**2))*(1/t),\n",
    "                      0])\n",
    "\n",
    "def dtd_ia(t):\n",
    "    t_Myr = t/1.0e6\n",
    "    # Type Ia SN DTD\n",
    "    #Eq 13, Maoz & Mannucci 2012, PASA 2019 447\n",
    "    return np.piecewise(t_Myr, [t_Myr<40., (t_Myr>=40.) & (t_Myr<=100.0e4), t_Myr>100.0e4], \\\n",
    "                     [0, lambda t: (4.0e-10)*(t)**(-1.0), 0])"
   ]
  },
  {
   "cell_type": "markdown",
   "metadata": {},
   "source": [
    "For each galaxy's star-formation history ($\\dot{M}(t)$, in units $M_{\\odot}$/yr), you can calculate the SN rate $R_{SN}$ as in Eq 10 of [Maoz & Badenes 2010](https://arxiv.org/abs/1003.3031) \n",
    "\n",
    "\\begin{equation}\n",
    "R_{SN} = \\int_0^{t_0} \\dot{M}(t-\\tau) \\Psi(\\tau) d\\tau\n",
    "\\end{equation}\n",
    "\n",
    "where $\\Psi(\\tau)$ is the delay-time distribution (DTD) for either core-collapse or Type Ia SN. For each age bin (e.g. $t_{lo,1}-t_{up,1}, t_{lo,2}-t_{up,2}, t_{lo,3}-t_{up,3}, ...$) and corresponding star-formation rates in the bin ($\\dot{M}_1$, $\\dot{M}_2$, $\\dot{M}_3$,...) we can spread this integral out as \n",
    "\\begin{equation}\n",
    "R_{SN} = \\int_{t_{lo,1}}^{t_{up,1}} \\dot{M}_1(t-\\tau) \\Psi(\\tau) d\\tau + \\int_{t_{lo,2}}^{t_{up,2}} \\dot{M}_2(t-\\tau) \\Psi(\\tau) d\\tau + \\int_{t_{lo,3}}^{t_{up,3}} \\dot{M}_3(t-\\tau) \\Psi(\\tau) d\\tau + ...\n",
    "\\end{equation}\n",
    "\n",
    "Since the SFR in each age bin is a constant, we just take it out of the integral and calculate the integral over the DTD\n",
    "\\begin{equation}\n",
    "R_{SN} = \\dot{M}_1 \\int_{t_{lo,1}}^{t_{up,1}} \\Psi(\\tau) d\\tau + \\dot{M}_2 \\int_{t_{lo,2}}^{t_{up,2}} \\Psi(\\tau) d\\tau + \\dot{M}_3 \\int_{t_{lo,3}}^{t_{up,3}} \\Psi(\\tau) d\\tau + ...\n",
    "\\end{equation}\n",
    "\n",
    "(Note: I think you can get away with just evaluating the DTD at the central age bin value (i.e. $\\int_{t_{lo,1}}^{t_{up,1}} \\Psi(\\tau) d\\tau \\approx \\Psi_1 (t_{up,1}-t_{lo,1})$). Can check this later.)"
   ]
  },
  {
   "cell_type": "code",
   "execution_count": 290,
   "metadata": {},
   "outputs": [
    {
     "name": "stdout",
     "output_type": "stream",
     "text": [
      "Rates in SN/yr\n",
      "Core collapse Rate for NGC5559:  0.03440684118283839\n",
      "Thermonuclear Rate for NGC5559:  0.007513507685876253\n",
      "Ia/CC Fraction for NGC5559:  0.21837249301525177\n",
      "\n",
      "\n",
      "Rates in SN/yr\n",
      "Core collapse Rate for NGC2768:  0.00033224464989700886\n",
      "Thermonuclear Rate for NGC2768:  0.008112989144890429\n",
      "Ia/CC Fraction for NGC2768:  24.41872020333613\n",
      "\n",
      "\n",
      "Rates in SN/yr\n",
      "Core collapse Rate for NGC4589:  0.0002731535087537892\n",
      "Thermonuclear Rate for NGC4589:  0.008930632707434731\n",
      "Ia/CC Fraction for NGC4589:  32.69455606914603\n",
      "\n",
      "\n",
      "Rates in SN/yr\n",
      "Core collapse Rate for NGC2272:  0.00026633522250217367\n",
      "Thermonuclear Rate for NGC2272:  0.00442654502664802\n",
      "Ia/CC Fraction for NGC2272:  16.620201357752798\n",
      "\n",
      "\n"
     ]
    }
   ],
   "source": [
    "galaxy = [\"5559\",\"2768\",\"4589\",\"2272\"]\n",
    "for g in galaxy:\n",
    "    #Reading age limits, sfrs  from Vic's star-formation histories\n",
    "    logagelims = np.concatenate(([0], tabnonpar[\"age_{}\".format(g)].data)) #Adding 0 to the first bin\n",
    "    sfr = tabnonpar[\"SFR_{}\".format(g)].data\n",
    "    sfr_low = tabnonpar[\"SFR_{}_lower\".format(g)].data\n",
    "    sfr_up = tabnonpar[\"SFR_{}_upper\".format(g)].data\n",
    "    ages = 10**logagelims\n",
    "\n",
    "    #integral over the DTD for CC\n",
    "    intDTD_cc = np.array([integ.quad(dtd_cc_bin, ages[j], ages[j+1])[0] for j in range(len(ages[:-1]))])\n",
    "    #integral over the DTD for Ia\n",
    "    intDTD_ia = np.array([integ.quad(dtd_ia, ages[j], ages[j+1])[0] for j in range(len(ages[:-1]))])\n",
    "    #SN rates = SFR*int(DTD)\n",
    "    Rsn_cc = np.dot(sfr.T, intDTD_cc)\n",
    "    Rsn_ia = np.dot(sfr.T, intDTD_ia)\n",
    "\n",
    "    print(\"Rates in SN/yr\")\n",
    "    print(\"Core collapse Rate for {}: \".format(\"NGC\"+g), Rsn_cc)\n",
    "    print(\"Thermonuclear Rate for {}: \".format(\"NGC\"+g), Rsn_ia)\n",
    "    print(\"Ia/CC Fraction for {}: \".format(\"NGC\"+g), Rsn_ia/Rsn_cc)\n",
    "    print(\"\\n\")\n"
   ]
  },
  {
   "cell_type": "markdown",
   "metadata": {},
   "source": [
    "### Parametric Star-formation histories"
   ]
  },
  {
   "cell_type": "code",
   "execution_count": 104,
   "metadata": {},
   "outputs": [],
   "source": [
    "tabtemp = ascii.read(\"parametric.csv\")\n",
    "cols = tuple(tabtemp[0])\n",
    "data = tabtemp[1:]\n",
    "tabpar = Table(data,\\\n",
    "               names=(\"Host\", \"logM\", \"elogM_up\", \"elogM_lo\", \"logtau\", \"elogtau_up\", \"elogtau_lo\",\\\n",
    "                           \"tage\", \"etage_up\", \"etage_lo\"),\\\n",
    "              dtype=[str, float, float, float, float, float, float, float, float, float])"
   ]
  },
  {
   "cell_type": "code",
   "execution_count": 105,
   "metadata": {},
   "outputs": [
    {
     "data": {
      "text/html": [
       "<i>Table length=19</i>\n",
       "<table id=\"table4509725360\" class=\"table-striped table-bordered table-condensed\">\n",
       "<thead><tr><th>Host</th><th>logM</th><th>elogM_up</th><th>elogM_lo</th><th>logtau</th><th>elogtau_up</th><th>elogtau_lo</th><th>tage</th><th>etage_up</th><th>etage_lo</th></tr></thead>\n",
       "<thead><tr><th>str31</th><th>float64</th><th>float64</th><th>float64</th><th>float64</th><th>float64</th><th>float64</th><th>float64</th><th>float64</th><th>float64</th></tr></thead>\n",
       "<tr><td>NGC 2768</td><td>11.141</td><td>0.0004</td><td>-0.0004</td><td>-0.1398</td><td>0.0007</td><td>-0.0007</td><td>8.2583</td><td>0.0119</td><td>-0.0123</td></tr>\n",
       "<tr><td>NGC 5559</td><td>10.384</td><td>0.0003</td><td>-0.0003</td><td>-0.8821</td><td>0.0007</td><td>-0.0007</td><td>0.9082</td><td>0.0014</td><td>-0.0014</td></tr>\n",
       "<tr><td>NGC 2207</td><td>10.9193</td><td>0.0013</td><td>-0.0021</td><td>-0.4041</td><td>0.0006</td><td>-0.0005</td><td>1.734</td><td>0.0033</td><td>-0.0058</td></tr>\n",
       "<tr><td>UGC 6934</td><td>10.2437</td><td>0.1079</td><td>-0.1056</td><td>0.1091</td><td>0.4351</td><td>-0.3104</td><td>5.8138</td><td>3.6194</td><td>-2.4832</td></tr>\n",
       "<tr><td>NGC 5714</td><td>10.299</td><td>0.0004</td><td>-0.0004</td><td>0.6266</td><td>0.0006</td><td>-0.0005</td><td>13.6136</td><td>0.0018</td><td>-0.0033</td></tr>\n",
       "<tr><td>NGC 1032</td><td>10.9244</td><td>0.0017</td><td>-0.0017</td><td>-0.5007</td><td>0.0045</td><td>-0.0044</td><td>3.4723</td><td>0.0217</td><td>-0.0223</td></tr>\n",
       "<tr><td>NGC 4589</td><td>10.9768</td><td>0.0002</td><td>-0.0002</td><td>-0.3871</td><td>0.0004</td><td>-0.0004</td><td>4.8459</td><td>0.0037</td><td>-0.0037</td></tr>\n",
       "<tr><td>NGC 1129</td><td>10.8301</td><td>0.0034</td><td>-0.0033</td><td>-0.0792</td><td>0.0417</td><td>-0.0534</td><td>12.6501</td><td>0.2636</td><td>-0.2813</td></tr>\n",
       "<tr><td>CGCG 170-011</td><td>10.4002</td><td>0.0081</td><td>-0.0087</td><td>-0.8378</td><td>0.0911</td><td>-0.1273</td><td>2.3249</td><td>0.1213</td><td>-0.1254</td></tr>\n",
       "<tr><td>NGC 2272</td><td>10.5987</td><td>0.0008</td><td>-0.0008</td><td>-0.4938</td><td>0.0018</td><td>-0.0017</td><td>3.5209</td><td>0.0107</td><td>-0.0105</td></tr>\n",
       "<tr><td>MCG-01-06-070</td><td>10.3998</td><td>0.0004</td><td>-0.0004</td><td>-0.5208</td><td>0.0007</td><td>-0.0007</td><td>1.8382</td><td>0.0029</td><td>-0.0028</td></tr>\n",
       "<tr><td>NGC 4321</td><td>10.9265</td><td>0.0006</td><td>-0.0008</td><td>-0.9121</td><td>0.0005</td><td>-0.0006</td><td>0.9043</td><td>0.0016</td><td>-0.002</td></tr>\n",
       "<tr><td>2MASX J22465295+2138221</td><td>9.4605</td><td>0.0674</td><td>-0.0741</td><td>0.7786</td><td>0.1498</td><td>-0.2105</td><td>2.8801</td><td>0.8652</td><td>-0.6302</td></tr>\n",
       "<tr><td>NGC 2639</td><td>11.0333</td><td>0.0011</td><td>-0.0011</td><td>-0.4753</td><td>0.0015</td><td>-0.0015</td><td>3.1756</td><td>0.0107</td><td>-0.0109</td></tr>\n",
       "<tr><td>IC 3956</td><td>10.4521</td><td>0.0092</td><td>-0.0079</td><td>-0.9782</td><td>0.0276</td><td>-0.0159</td><td>1.5908</td><td>0.037</td><td>-0.0361</td></tr>\n",
       "<tr><td>NGC 7265</td><td>9.9991</td><td>0.0465</td><td>-0.0424</td><td>-0.8008</td><td>0.0756</td><td>-0.0911</td><td>1.6364</td><td>0.209</td><td>-0.1803</td></tr>\n",
       "<tr><td>SDSS J130109.43 +280159.1/WISEA</td><td>9.4916</td><td>0.1161</td><td>-0.0815</td><td>-0.5023</td><td>0.4689</td><td>-0.316</td><td>3.3854</td><td>3.008</td><td>-0.9363</td></tr>\n",
       "<tr><td>NGC 3430</td><td>9.9804</td><td>0.0001</td><td>-0.0001</td><td>-0.7714</td><td>0.0001</td><td>-0.0001</td><td>1.0456</td><td>0.0002</td><td>-0.0002</td></tr>\n",
       "<tr><td>2MASX J00505254+2722432</td><td>8.3511</td><td>0.1264</td><td>-0.0929</td><td>0.52</td><td>0.3048</td><td>-0.2895</td><td>0.3429</td><td>0.1883</td><td>-0.0941</td></tr>\n",
       "</table>"
      ],
      "text/plain": [
       "<Table length=19>\n",
       "              Host                logM  elogM_up ...   tage  etage_up etage_lo\n",
       "             str31              float64 float64  ... float64 float64  float64 \n",
       "------------------------------- ------- -------- ... ------- -------- --------\n",
       "                       NGC 2768  11.141   0.0004 ...  8.2583   0.0119  -0.0123\n",
       "                       NGC 5559  10.384   0.0003 ...  0.9082   0.0014  -0.0014\n",
       "                       NGC 2207 10.9193   0.0013 ...   1.734   0.0033  -0.0058\n",
       "                       UGC 6934 10.2437   0.1079 ...  5.8138   3.6194  -2.4832\n",
       "                       NGC 5714  10.299   0.0004 ... 13.6136   0.0018  -0.0033\n",
       "                       NGC 1032 10.9244   0.0017 ...  3.4723   0.0217  -0.0223\n",
       "                       NGC 4589 10.9768   0.0002 ...  4.8459   0.0037  -0.0037\n",
       "                       NGC 1129 10.8301   0.0034 ... 12.6501   0.2636  -0.2813\n",
       "                   CGCG 170-011 10.4002   0.0081 ...  2.3249   0.1213  -0.1254\n",
       "                       NGC 2272 10.5987   0.0008 ...  3.5209   0.0107  -0.0105\n",
       "                  MCG-01-06-070 10.3998   0.0004 ...  1.8382   0.0029  -0.0028\n",
       "                       NGC 4321 10.9265   0.0006 ...  0.9043   0.0016   -0.002\n",
       "        2MASX J22465295+2138221  9.4605   0.0674 ...  2.8801   0.8652  -0.6302\n",
       "                       NGC 2639 11.0333   0.0011 ...  3.1756   0.0107  -0.0109\n",
       "                        IC 3956 10.4521   0.0092 ...  1.5908    0.037  -0.0361\n",
       "                       NGC 7265  9.9991   0.0465 ...  1.6364    0.209  -0.1803\n",
       "SDSS J130109.43 +280159.1/WISEA  9.4916   0.1161 ...  3.3854    3.008  -0.9363\n",
       "                       NGC 3430  9.9804   0.0001 ...  1.0456   0.0002  -0.0002\n",
       "        2MASX J00505254+2722432  8.3511   0.1264 ...  0.3429   0.1883  -0.0941"
      ]
     },
     "execution_count": 105,
     "metadata": {},
     "output_type": "execute_result"
    }
   ],
   "source": [
    "tabpar"
   ]
  },
  {
   "cell_type": "markdown",
   "metadata": {},
   "source": [
    "### Checking parameteric and non-parametric solutions.\n",
    "\n"
   ]
  },
  {
   "cell_type": "code",
   "execution_count": 295,
   "metadata": {},
   "outputs": [
    {
     "name": "stderr",
     "output_type": "stream",
     "text": [
      "/Users/sumits2k/anaconda3/lib/python3.7/site-packages/IPython/core/pylabtools.py:132: UserWarning: Creating legend with loc=\"best\" can be slow with large amounts of data.\n",
      "  fig.canvas.print_figure(bytes_io, **kw)\n"
     ]
    },
    {
     "data": {
      "image/png": "[encoded data removed]",
      "text/plain": [
       "<Figure size 432x288 with 1 Axes>"
      ]
     },
     "metadata": {
      "needs_background": "light"
     },
     "output_type": "display_data"
    },
    {
     "data": {
      "image/png": "[encoded data removed]",
      "text/plain": [
       "<Figure size 432x288 with 1 Axes>"
      ]
     },
     "metadata": {
      "needs_background": "light"
     },
     "output_type": "display_data"
    },
    {
     "data": {
      "image/png": "[encoded data removed]",
      "text/plain": [
       "<Figure size 432x288 with 1 Axes>"
      ]
     },
     "metadata": {
      "needs_background": "light"
     },
     "output_type": "display_data"
    },
    {
     "data": {
      "image/png": "[encoded data removed]",
      "text/plain": [
       "<Figure size 432x288 with 1 Axes>"
      ]
     },
     "metadata": {
      "needs_background": "light"
     },
     "output_type": "display_data"
    }
   ],
   "source": [
    "def sfr(t, MF=1.0e11, tau=1.0e9, tage=1.0e10):\n",
    "    \"\"\"\n",
    "    Star formation rate in units of Msun/yr\n",
    "    Eq in Sec 4.2 of vic's paper\n",
    "    \"\"\"\n",
    "    f_tt = lambda tt: tt*np.exp(-tt/tau)\n",
    "    int_f_tt = integ.quad(f_tt, 0, tage)[0]\n",
    "    return MF*f_tt(t)/int_f_tt\n",
    "\n",
    "def plot_rand_sfrs(gal, n=100):\n",
    "    \"\"\"\n",
    "    Plot randomized SFHs based on errors in the parameters. \n",
    "    Turns out the errors are quite small, and therefore can be ignored\n",
    "    \"\"\"\n",
    "    #Generate random values of mass, tau and age from the uncertainties in Vic's table\n",
    "    r_logM = np.random.normal(loc=gal[\"logM\"], scale=gal[\"elogM_up\"], size=n)\n",
    "    r_logtau = np.random.normal(loc=gal[\"logtau\"], scale=gal[\"elogtau_up\"], size=n)\n",
    "    r_tage = 1.0e9*np.random.normal(loc=gal[\"tage\"], scale=gal[\"etage_up\"], size=n)\n",
    "    \n",
    "    #calculate the star-formation history for each random value and plot it.\n",
    "    for logM, logtau, tage in zip(r_logM, r_logtau, r_tage):\n",
    "        arr_sfr = sfr(t, MF=10**logM, tau=10**(logtau+9), tage=tage)\n",
    "        plt.plot(tage-t, arr_sfr, ls=\"-\", color=\"r\", lw=0.2, alpha=0.2)\n",
    "    \n",
    "\n",
    "#nonparametric solutions\n",
    "galaxy = [\"5559\",\"2768\",\"4589\",\"2272\"]\n",
    "t = np.logspace(7,11,10000)\n",
    "\n",
    "for g in galaxy:  \n",
    "    plt.figure()\n",
    "    #PARAMETRIC SFRs\n",
    "    tab = tabpar[(tabpar[\"Host\"]==\"NGC {}\".format(g))]\n",
    "    arr_sfr = sfr(t, MF=10**tab[\"logM\"], tau=10**(tab[\"logtau\"]+9), tage=tab[\"tage\"]*1.0e9)\n",
    "    tl = tab[\"tage\"]*1.0e9 - t #lookback time\n",
    "    plt.title(tab[\"Host\"].data)\n",
    "    plt.plot(tl, arr_sfr, ls='-', zorder=10, color=\"r\", label=\"Parametric\")\n",
    "    plot_rand_sfrs(tab)\n",
    "    \n",
    "    #NONPARAMETRIC SFRs\n",
    "    #Reading age limits, sfrs  from Vic's star-formation histories\n",
    "    logagelims = np.concatenate(([0], tabnonpar[\"age_{}\".format(g)].data)) #Adding 0 to the first bin\n",
    "    sfrnonpar = tabnonpar[\"SFR_{}\".format(g)].data\n",
    "    sfrnonpar_low = tabnonpar[\"SFR_{}_lower\".format(g)].data\n",
    "    sfrnonpar_up = tabnonpar[\"SFR_{}_upper\".format(g)].data\n",
    "    ages = 10**logagelims\n",
    "    x_axis = np.vstack((ages[:-1], ages[1:])).T.flatten()\n",
    "    y_axis = np.repeat(sfrnonpar,2)\n",
    "    y_axis_errup = np.repeat(sfrnonpar_up,2)\n",
    "    y_axis_errlo = np.repeat(sfrnonpar_low,2)\n",
    "    plt.plot(x_axis, y_axis, \"k-\")\n",
    "    plt.fill_between(x_axis, y_axis_errlo, y_axis_errup, color=\"k\", alpha=0.2, label=\"Non-parametric\")\n",
    "\n",
    "    #Frame specs\n",
    "    plt.xlabel(\"Lookback age [yr]\")\n",
    "    plt.ylabel(\"SFR [M/yr]\")\n",
    "    plt.xlim(8.0e6,1.0e10)\n",
    "    plt.yscale(\"log\")\n",
    "    plt.ylim(1.0e-3, 1.0e2)\n",
    "    plt.xscale(\"log\")\n",
    "    plt.legend()\n",
    "    plt.show()"
   ]
  },
  {
   "cell_type": "markdown",
   "metadata": {},
   "source": [
    "So these show the star-formation histories for the 4 galaxies for which we also have non-parametric star-formation histories. NGC 5559 is the one that has a clear discrepancy in the parametric and non-parametric form. \n",
    "\n",
    "Below, I calculate the rates using the same equation as before, except now using the functional form of the star-formation history $\\dot{M}(t)$\n",
    "\\begin{equation}\n",
    "R_{SN} = \\int_0^{t_{age}} \\dot{M}(t-\\tau) \\Psi(\\tau) d\\tau\n",
    "\\end{equation}\n",
    "where $\\dot{M}(t)$ is given by :-\n",
    "\\begin{equation}\n",
    "\\dot{M}(t) = M_F \\bigg [\\int_0^{t_{age}} t^{'} \\mathrm{e}^{-t^{'}/\\tau} \\mathrm{d}t^{'} \\bigg]^{-1} t\\mathrm{e}^{-t/\\tau} \\mathrm{d}t\n",
    "\\end{equation}\n"
   ]
  },
  {
   "cell_type": "code",
   "execution_count": 294,
   "metadata": {},
   "outputs": [
    {
     "name": "stderr",
     "output_type": "stream",
     "text": [
      "/Users/sumits2k/anaconda3/lib/python3.7/site-packages/ipykernel_launcher.py:16: IntegrationWarning: The maximum number of subdivisions (50) has been achieved.\n",
      "  If increasing the limit yields no improvement it is advised to analyze \n",
      "  the integrand in order to determine the difficulties.  If the position of a \n",
      "  local difficulty can be determined (singularity, discontinuity) one will \n",
      "  probably gain from splitting up the interval and calling the integrator \n",
      "  on the subranges.  Perhaps a special-purpose integrator should be used.\n",
      "  app.launch_new_instance()\n"
     ]
    },
    {
     "name": "stdout",
     "output_type": "stream",
     "text": [
      "Rates in SN/yr\n",
      "Core collapse Rate for NGC5559:  0.01995298578214469\n",
      "Thermonuclear Rate for NGC5559:  0.01706662695774343\n",
      "Ia/CC Fraction for NGC5559:  0.8553420096663342\n",
      "\n",
      "\n",
      "Rates in SN/yr\n",
      "Core collapse Rate for NGC2768:  0.00032469163670961185\n",
      "Thermonuclear Rate for NGC2768:  0.008436011442490194\n",
      "Ia/CC Fraction for NGC2768:  25.981609899102345\n",
      "\n",
      "\n",
      "Rates in SN/yr\n",
      "Core collapse Rate for NGC4589:  0.00027550996971113036\n",
      "Thermonuclear Rate for NGC4589:  0.009728103391221194\n",
      "Ia/CC Fraction for NGC4589:  35.30944234584694\n",
      "\n",
      "\n",
      "Rates in SN/yr\n",
      "Core collapse Rate for NGC2272:  0.00032336179270052055\n",
      "Thermonuclear Rate for NGC2272:  0.005744704028299613\n",
      "Ia/CC Fraction for NGC2272:  17.76556215972007\n",
      "\n",
      "\n"
     ]
    }
   ],
   "source": [
    "def rsn(gal):\n",
    "    \"\"\"\n",
    "    SN rate as a function of parametric star-formation history\n",
    "    and DTD\n",
    "    \"\"\"\n",
    "    tage = gal[\"tage\"]*1.0e9\n",
    "    MF = 10**gal[\"logM\"]\n",
    "    tau = 10**(gal[\"logtau\"]+9)\n",
    "    #print(tage, MF, tau)\n",
    "    \n",
    "    f_t = lambda t: t*np.exp(-t/tau)\n",
    "    int_f_t = integ.quad(f_t, 0, tage)[0]\n",
    "    f_sfr = lambda t: np.piecewise(t, [t<=0, t>0], [0, MF*f_t(t)/int_f_t])\n",
    "    f_sfr_dtdcc = lambda tt: dtd_cc_bin(tt)*f_sfr(tage-tt)\n",
    "    f_sfr_dtdia = lambda tt: dtd_ia(tt)*f_sfr(tage-tt)\n",
    "    return integ.quad(f_sfr_dtdcc, 0, tage)[0], integ.quad(f_sfr_dtdia, 0, tage)[0]\n",
    "\n",
    "galaxy = [\"5559\",\"2768\",\"4589\",\"2272\"]\n",
    "for g in galaxy:  \n",
    "    tab = tabpar[(tabpar[\"Host\"]==\"NGC {}\".format(g))]\n",
    "    rcc, ria = rsn(tab)\n",
    "    print(\"Rates in SN/yr\")\n",
    "    print(\"Core collapse Rate for {}: \".format(\"NGC\"+g), rcc)\n",
    "    print(\"Thermonuclear Rate for {}: \".format(\"NGC\"+g), ria)\n",
    "    print(\"Ia/CC Fraction for {}: \".format(\"NGC\"+g), ria/rcc)\n",
    "    print(\"\\n\")"
   ]
  },
  {
   "cell_type": "markdown",
   "metadata": {},
   "source": [
    "So as expected, the rates of the last 3 galaxies are quite consistent with the results of the non-parametric star-formation histories, with rates agreeing to within 10-30$\\%$. The big difference is NGC 5559, where the Type Ia rate is higher by almost a factor 2.5, and CC rate is lower by nearly a factor of 2. So with parametric SFH, one would think there's a 50-50 chance that 2001co was a thermonuclear or core-collapse progenitor, whereas the non-parametric solution suggests that its 5 times more likely that 2001co came from a core-collapse progenitor"
   ]
  }
 ],
 "metadata": {
  "kernelspec": {
   "display_name": "Python 3",
   "language": "python",
   "name": "python3"
  },
  "language_info": {
   "codemirror_mode": {
    "name": "ipython",
    "version": 3
   },
   "file_extension": ".py",
   "mimetype": "text/x-python",
   "name": "python",
   "nbconvert_exporter": "python",
   "pygments_lexer": "ipython3",
   "version": "3.7.3"
  }
 },
 "nbformat": 4,
 "nbformat_minor": 4
}
